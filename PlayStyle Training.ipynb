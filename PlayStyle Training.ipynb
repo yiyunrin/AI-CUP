{
 "cells": [
  {
   "cell_type": "code",
   "execution_count": 1,
   "id": "bd5077d3",
   "metadata": {},
   "outputs": [],
   "source": [
    "import tensorflow as tf\n",
    "from tensorflow.keras.models import Model, load_model\n",
    "from tensorflow.keras.layers import Input, Conv2D, ReLU, BatchNormalization, Add, MaxPooling2D, Flatten, Dense, Softmax, Activation, GlobalAveragePooling2D, ZeroPadding2D\n",
    "from tensorflow.keras.optimizers import Adam, Nadam, SGD\n",
    "import numpy as np\n",
    "import h5py"
   ]
  },
  {
   "cell_type": "code",
   "execution_count": 2,
   "id": "4d54d124",
   "metadata": {},
   "outputs": [
    {
     "name": "stdout",
     "output_type": "stream",
     "text": [
      "2.9.1\n",
      "WARNING:tensorflow:From C:\\Users\\kenny\\AppData\\Local\\Temp\\ipykernel_2680\\998393930.py:2: is_gpu_available (from tensorflow.python.framework.test_util) is deprecated and will be removed in a future version.\n",
      "Instructions for updating:\n",
      "Use `tf.config.list_physical_devices('GPU')` instead.\n"
     ]
    },
    {
     "data": {
      "text/plain": [
       "True"
      ]
     },
     "execution_count": 2,
     "metadata": {},
     "output_type": "execute_result"
    }
   ],
   "source": [
    "print(tf.__version__)\n",
    "tf.test.is_gpu_available()"
   ]
  },
  {
   "cell_type": "code",
   "execution_count": 3,
   "id": "db73dfca",
   "metadata": {},
   "outputs": [],
   "source": [
    "def dataGenerator(hdfile):\n",
    "    def generator():\n",
    "        indexs = np.arange(hdfile['Xs'].shape[0])\n",
    "        for i in indexs:\n",
    "            x = np.array(hdfile['Xs'][i])\n",
    "            y = np.array(hdfile['Ys'][i] - 1)\n",
    "            yield x, y\n",
    "    return generator"
   ]
  },
  {
   "cell_type": "code",
   "execution_count": 4,
   "id": "a8bac7e0",
   "metadata": {},
   "outputs": [
    {
     "name": "stdout",
     "output_type": "stream",
     "text": [
      "train_steps: 6653, val_steps: 41\n"
     ]
    }
   ],
   "source": [
    "hdf5 = h5py.File('./hdf5/play_style_dataset.hdf5','r')\n",
    "hdf5_val = h5py.File('./hdf5/play_style_val.hdf5')\n",
    "batch_size = 32\n",
    "dataset_size = hdf5['Xs'].shape[0]\n",
    "val_size = hdf5_val['Xs'].shape[0]\n",
    "\n",
    "train_steps = int(dataset_size / batch_size)\n",
    "val_steps = int(val_size / batch_size)\n",
    "print(f\"train_steps: {train_steps}, val_steps: {val_steps}\")\n",
    "\n",
    "data_gen = dataGenerator(hdf5)\n",
    "dataset = tf.data.Dataset.from_generator(data_gen, \n",
    "                                         output_types=(tf.dtypes.float32, tf.dtypes.int32),\n",
    "                                         output_shapes=(tf.TensorShape((19,19,28)),tf.TensorShape((1))))\n",
    "dataset = dataset.batch(batch_size)\n",
    "dataset = dataset.prefetch(tf.data.AUTOTUNE)\n",
    "\n",
    "data_gen_valid = dataGenerator(hdf5_val)\n",
    "dataset_valid = tf.data.Dataset.from_generator(data_gen_valid, \n",
    "                                         output_types=(tf.dtypes.float32, tf.dtypes.int32),\n",
    "                                         output_shapes=(tf.TensorShape((19,19,28)),tf.TensorShape((1))))\n",
    "dataset_valid = dataset_valid.batch(batch_size)\n",
    "dataset_valid = dataset_valid.prefetch(tf.data.AUTOTUNE)"
   ]
  },
  {
   "cell_type": "code",
   "execution_count": 5,
   "id": "6ee7dc8f",
   "metadata": {},
   "outputs": [
   ],
   "source": [
    "# resnet50\n",
    "def block1(x, filters, kernel_size=3, stride=1, conv_shortcut=False):\n",
    "    preact = Activation(\"relu\")(x)\n",
    "    if conv_shortcut:\n",
    "        shortcut = Conv2D(4 * filters, 1, strides=stride)(preact)\n",
    "    else:\n",
    "        shortcut = x\n",
    "    x = Conv2D(filters, 1, strides=1)(preact)\n",
    "    x = Activation(\"relu\")(x)\n",
    "    if kernel_size == 3:\n",
    "        x = ZeroPadding2D(padding=((1, 1), (1, 1)))(x)\n",
    "    elif kernel_size == 5:\n",
    "        x = ZeroPadding2D(padding=((2, 2), (2, 2)))(x)\n",
    "    x = Conv2D(\n",
    "        filters,\n",
    "        kernel_size,\n",
    "        strides=stride\n",
    "    )(x)\n",
    "    x = Activation(\"relu\")(x)\n",
    "    x = Conv2D(4 * filters, 1)(x)\n",
    "    x = Add()([shortcut, x])\n",
    "    return x\n",
    "\n",
    "def ResNet50(include_top=True,\n",
    "             input_tensor=None,\n",
    "             input_shape=None,\n",
    "             pooling=False):\n",
    "    inputs = Input(shape = input_shape)\n",
    "    x = block1(inputs, 256, kernel_size=3, conv_shortcut=True)\n",
    "    x = block1(x, 256)\n",
    "    x = block1(x, 256)\n",
    "    x = block1(x, 256)\n",
    "    x = block1(x, 256)\n",
    "    x = block1(x, 256)\n",
    "    x = block1(x, 256)\n",
    "    x = block1(x, 256)\n",
    "    x = block1(x, 256)\n",
    "    x = block1(x, 256)\n",
    "    x = block1(x, 256)\n",
    "    x = block1(x, 256)\n",
    "    x = block1(x, 256)\n",
    "    x = block1(x, 256)\n",
    "    x = block1(x, 256)\n",
    "    x = block1(x, 256)\n",
    "    x = block1(x, 256)\n",
    "    x = block1(x, 256)\n",
    "    x = block1(x, 256)\n",
    "    x = block1(x, 256)\n",
    "    x = block1(x, 256)\n",
    "    x = block1(x, 256)\n",
    "    x = block1(x, 256)\n",
    "    x = block1(x, 256)\n",
    "    x = block1(x, 256)\n",
    "    x = block1(x, 256)\n",
    "    x = block1(x, 256)\n",
    "    x = block1(x, 256)\n",
    "    x = block1(x, 256)\n",
    "    x = block1(x, 256)\n",
    "    x = block1(x, 256)\n",
    "    x = block1(x, 256)\n",
    "    x = block1(x, 256)#33\n",
    "    \n",
    "    x = GlobalAveragePooling2D(name='avg_pool')(x)\n",
    "    x = Dense(3, activation='softmax', name='fc1000')(x)\n",
    "\n",
    "    model = Model(inputs, x, name='resnet50')\n",
    "    return model\n",
    "\n",
    "model = ResNet50(include_top=True,\n",
    "                 input_tensor=None,\n",
    "                 input_shape=(19, 19, 28),\n",
    "                 pooling=False)\n",
    "opt = Nadam(learning_rate = 0.0001)\n",
    "model.compile(optimizer = opt,\n",
    "              loss='sparse_categorical_crossentropy',\n",
    "                metrics=['accuracy'])\n",
    "model.summary()"
   ]
  },
  {
   "cell_type": "code",
   "execution_count": 6,
   "id": "f0066700",
   "metadata": {},
   "outputs": [],
   "source": [
    "callback1 = tf.keras.callbacks.EarlyStopping(monitor='val_accuracy', min_delta=0, \n",
    "                                patience=5, verbose=0, mode='max'\n",
    "                                 , restore_best_weights=False)\n",
    "callback2 = tf.keras.callbacks.ModelCheckpoint('./models/model_style_v2_b32_f256_l100_{epoch:02d}.h5', \n",
    "                                             monitor='val_accuracy', \n",
    "                                            verbose=0, save_best_only=False, save_weights_only=False, \n",
    "                                            mode='max', save_freq=\"epoch\")"
   ]
  },
  {
   "cell_type": "code",
   "execution_count": 7,
   "id": "687091ca",
   "metadata": {},
   "outputs": [],
   "source": [
    "# model =load_model('./models/model_style_v2_b32_f256_l100_aug16_1.h5')"
   ]
  },
  {
   "cell_type": "code",
   "execution_count": null,
   "id": "fcf329a3",
   "metadata": {},
   "outputs": [
    {
     "name": "stdout",
     "output_type": "stream",
     "text": [
      "Epoch 1/500\n",
      "     70/Unknown - 36s 292ms/step - loss: 1.1489 - accuracy: 0.3786"
     ]
    }
   ],
   "source": [
    "history = model.fit(\n",
    "    dataset,\n",
    "    epochs = 500,\n",
    "    validation_data = dataset_valid,s\n",
    "    callbacks = [callback1, callback2]\n",
    ")"
   ]
  },
  {
   "cell_type": "code",
   "execution_count": 9,
   "id": "6ed0f073",
   "metadata": {},
   "outputs": [],
   "source": [
    "# model.save('./models/model_style_v2_b32_f256_l100_aug16_1.h5')"
   ]
  },
  {
   "cell_type": "code",
   "execution_count": null,
   "id": "fc41e067",
   "metadata": {},
   "outputs": [],
   "source": []
  }
 ],
 "metadata": {
  "kernelspec": {
   "display_name": "Python 3 (ipykernel)",
   "language": "python",
   "name": "python3"
  },
  "language_info": {
   "codemirror_mode": {
    "name": "ipython",
    "version": 3
   },
   "file_extension": ".py",
   "mimetype": "text/x-python",
   "name": "python",
   "nbconvert_exporter": "python",
   "pygments_lexer": "ipython3",
   "version": "3.8.18"
  }
 },
 "nbformat": 4,
 "nbformat_minor": 5
}
