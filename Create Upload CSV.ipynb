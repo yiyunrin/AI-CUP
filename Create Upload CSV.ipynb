{
 "cells": [
  {
   "cell_type": "code",
   "execution_count": 1,
   "id": "c0fb2beb",
   "metadata": {},
   "outputs": [],
   "source": [
    "import tensorflow as tf\n",
    "from tensorflow.keras.models import load_model\n",
    "import numpy as np\n",
    "from queue import Queue\n",
    "from IPython.display import clear_output\n",
    "import h5py"
   ]
  },
  {
   "cell_type": "code",
   "execution_count": 2,
   "id": "8a8268cf",
   "metadata": {},
   "outputs": [
    {
     "data": {
      "text/plain": [
       "'2.9.1'"
      ]
     },
     "execution_count": 2,
     "metadata": {},
     "output_type": "execute_result"
    }
   ],
   "source": [
    "tf.__version__"
   ]
  },
  {
   "cell_type": "code",
   "execution_count": 3,
   "id": "f2643011",
   "metadata": {},
   "outputs": [],
   "source": [
    "chars = 'abcdefghijklmnopqrs'\n",
    "coordinates = {k:v for v,k in enumerate(chars)}\n",
    "chartonumbers = {k:v for k,v in enumerate(chars)}\n",
    "\n",
    "def number_to_char(number):\n",
    "    number_1, number_2 = divmod(number, 19)\n",
    "    return chartonumbers[number_1] + chartonumbers[number_2]\n",
    "\n",
    "def top_5_preds_with_chars(predictions):\n",
    "    tmps = [np.argpartition(prediction, -5)[-5:] for prediction in predictions]\n",
    "    resulting_preds_numbers = [np.flip(tmp[np.argsort(predictions[k][tmp])]) for k, tmp in enumerate(tmps)]\n",
    "    resulting_preds_chars = np.vectorize(number_to_char)(resulting_preds_numbers)\n",
    "    return resulting_preds_chars"
   ]
  },
  {
   "cell_type": "markdown",
   "id": "5ac5558f",
   "metadata": {},
   "source": [
    "## Save Predictions for Dan"
   ]
  },
  {
   "cell_type": "code",
   "execution_count": null,
   "id": "1a7d526a",
   "metadata": {
    "scrolled": true
   },
   "outputs": [],
   "source": [
    "# public\n",
    "# Load model\n",
    "model = load_model('./models/model_dan_v2_b64_f256_l88_cor_03_1.h5')\n",
    "\n",
    "# Load dataset\n",
    "df = open('./CSVs/dan_test_public.csv').read().splitlines()\n",
    "games_id = [i.split(',',1)[0] for i in df]\n",
    "\n",
    "# Load hdf5\n",
    "xs = h5py.File(\"./hdf5/dan_test_public.hdf5\", \"a\")[\"Xs\"][:]\n",
    "\n",
    "predictions = model.predict(xs)\n",
    "prediction_chars = top_5_preds_with_chars(predictions)\n",
    "\n",
    "with open('./public_submission_template.csv','a') as f:\n",
    "    for index in range(len(prediction_chars)):\n",
    "        answer_row = games_id[index] + ',' + ','.join(prediction_chars[index]) + '\\n'\n",
    "        f.write(answer_row)\n",
    "xs = []"
   ]
  },
  {
   "cell_type": "code",
   "execution_count": null,
   "id": "29e8b1a7",
   "metadata": {},
   "outputs": [],
   "source": [
    "# private\n",
    "# Load model\n",
    "model = load_model('./models/model_dan_v2_b64_f256_l88_cor_03_1.h5')\n",
    "\n",
    "# Load dataset\n",
    "df = open('./CSVs/dan_test_private.csv').read().splitlines()\n",
    "games_id = [i.split(',',1)[0] for i in df]\n",
    "\n",
    "# Load hdf5\n",
    "xs = h5py.File(\"./hdf5/dan_test_private.hdf5\", \"a\")[\"Xs\"][:]\n",
    "\n",
    "predictions = model.predict(xs)\n",
    "prediction_chars = top_5_preds_with_chars(predictions)\n",
    "\n",
    "with open('./public_submission_template.csv','a') as f:\n",
    "    for index in range(len(prediction_chars)):\n",
    "        answer_row = games_id[index] + ',' + ','.join(prediction_chars[index]) + '\\n'\n",
    "        f.write(answer_row)\n",
    "xs = []"
   ]
  },
  {
   "cell_type": "markdown",
   "id": "89a967ad",
   "metadata": {},
   "source": [
    "## Save Predictions for Kyu"
   ]
  },
  {
   "cell_type": "code",
   "execution_count": null,
   "id": "25b7419c",
   "metadata": {},
   "outputs": [],
   "source": [
    "# public\n",
    "# Load model\n",
    "model = load_model('./models/model_kyu_v2_b64_f256_l88_cor_5.h5')\n",
    "\n",
    "# Load dataset\n",
    "df = open('./CSVs/kyu_test_public.csv').read().splitlines()\n",
    "games_id = [i.split(',',1)[0] for i in df]\n",
    "\n",
    "# Load hdf5\n",
    "xs = h5py.File(\"./hdf5/kyu_test_public.hdf5\", \"a\")[\"Xs\"][:]\n",
    "\n",
    "predictions = model.predict(xs)\n",
    "prediction_chars = top_5_preds_with_chars(predictions)\n",
    "\n",
    "with open('./public_submission_template.csv','a') as f:\n",
    "    for index in range(len(prediction_chars)):\n",
    "        answer_row = games_id[index] + ',' + ','.join(prediction_chars[index]) + '\\n'\n",
    "        f.write(answer_row)\n",
    "xs = []"
   ]
  },
  {
   "cell_type": "code",
   "execution_count": null,
   "id": "4882d87a",
   "metadata": {},
   "outputs": [],
   "source": [
    "# private\n",
    "# Load model\n",
    "model = load_model('./models/model_kyu_v2_b64_f256_l88_cor_5.h5')\n",
    "\n",
    "# Load dataset\n",
    "df = open('./CSVs/kyu_test_private.csv').read().splitlines()\n",
    "games_id = [i.split(',',1)[0] for i in df]\n",
    "\n",
    "# Load hdf5\n",
    "xs = h5py.File(\"./hdf5/kyu_test_private.hdf5\", \"a\")[\"Xs\"][:]\n",
    "\n",
    "predictions = model.predict(xs)\n",
    "prediction_chars = top_5_preds_with_chars(predictions)\n",
    "\n",
    "with open('./public_submission_template.csv','a') as f:\n",
    "    for index in range(len(prediction_chars)):\n",
    "        answer_row = games_id[index] + ',' + ','.join(prediction_chars[index]) + '\\n'\n",
    "        f.write(answer_row)\n",
    "xs = []"
   ]
  },
  {
   "cell_type": "markdown",
   "id": "981b80b8",
   "metadata": {},
   "source": [
    "## Save Predictions for PlayStyle"
   ]
  },
  {
   "cell_type": "code",
   "execution_count": null,
   "id": "6bcef09c",
   "metadata": {},
   "outputs": [
   ],
   "source": [
    "# public\n",
    "# Load  model\n",
    "model = load_model('./models/model_style_v2_b32_f256_l88_pempty_02.h5')\n",
    "\n",
    "# Load dataset\n",
    "df = open('./CSVs/play_style_test_public.csv').read().splitlines()\n",
    "games_id = [i.split(',',1)[0] for i in df]\n",
    "\n",
    "# Load hdf5\n",
    "xs = h5py.File(\"./hdf5/style_test_public.hdf5\", \"a\")[\"Xs\"][:]\n",
    "\n",
    "predictions = model.predict(xs)\n",
    "prediction_numbers = np.argmax(predictions, axis=1)\n",
    "\n",
    "with open('./public_submission_template.csv','a') as f:\n",
    "    for index, number in enumerate(prediction_numbers):\n",
    "        answer_row = games_id[index] + ',' + str(number+1) + '\\n'\n",
    "        f.write(answer_row)\n",
    "xs = []"
   ]
  },
  {
   "cell_type": "code",
   "execution_count": null,
   "id": "917346ba",
   "metadata": {},
   "outputs": [
   ],
   "source": [
    "# private\n",
    "# Load model\n",
    "model = load_model('./models/model_style_v2_b32_f256_l88_pempty_02.h5')\n",
    "\n",
    "# Load dataset\n",
    "df = open('./CSVs/play_style_test_private.csv').read().splitlines()\n",
    "games_id = [i.split(',',1)[0] for i in df]\n",
    "\n",
    "# Load hdf5\n",
    "xs = h5py.File(\"./hdf5/style_test_private.hdf5\", \"a\")[\"Xs\"][:]\n",
    "\n",
    "predictions = model.predict(xs)\n",
    "prediction_numbers = np.argmax(predictions, axis=1)\n",
    "\n",
    "with open('./public_submission_template.csv','a') as f:\n",
    "    for index, number in enumerate(prediction_numbers):\n",
    "        answer_row = games_id[index] + ',' + str(number+1) + '\\n'\n",
    "        f.write(answer_row)"
   ]
  },
  {
   "cell_type": "code",
   "execution_count": null,
   "id": "b8ec718a",
   "metadata": {},
   "outputs": [],
   "source": []
  }
 ],
 "metadata": {
  "kernelspec": {
   "display_name": "Python 3 (ipykernel)",
   "language": "python",
   "name": "python3"
  },
  "language_info": {
   "codemirror_mode": {
    "name": "ipython",
    "version": 3
   },
   "file_extension": ".py",
   "mimetype": "text/x-python",
   "name": "python",
   "nbconvert_exporter": "python",
   "pygments_lexer": "ipython3",
   "version": "3.8.18"
  }
 },
 "nbformat": 4,
 "nbformat_minor": 5
}
