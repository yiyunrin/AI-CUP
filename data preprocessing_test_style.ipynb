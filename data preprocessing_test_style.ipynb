{
 "cells": [
  {
   "cell_type": "code",
   "execution_count": 1,
   "id": "aa35a2f0",
   "metadata": {},
   "outputs": [],
   "source": [
    "import h5py\n",
    "import numpy as np\n",
    "import os\n",
    "from queue import Queue\n",
    "import random"
   ]
  },
  {
   "cell_type": "markdown",
   "id": "d40737de",
   "metadata": {},
   "source": [
    "## play style public"
   ]
  },
  {
   "cell_type": "code",
   "execution_count": 2,
   "id": "98d4d0b7",
   "metadata": {},
   "outputs": [],
   "source": [
    "df = open('./CSVs/play_style_test_public.csv').read().splitlines()\n",
    "games = [i.split(',',1)[1] for i in df]"
   ]
  },
  {
   "cell_type": "markdown",
   "id": "6a8ab6f5",
   "metadata": {},
   "source": [
    "## play style private"
   ]
  },
  {
   "cell_type": "code",
   "execution_count": 3,
   "id": "39e65055",
   "metadata": {},
   "outputs": [],
   "source": [
    "# df = open('./CSVs/play_style_test_private_f.csv').read().splitlines()\n",
    "# games = [i.split(',',1)[1] for i in df]"
   ]
  },
  {
   "cell_type": "code",
   "execution_count": 3,
   "id": "efe224a7",
   "metadata": {},
   "outputs": [
    {
     "data": {
      "text/plain": [
       "{'a': 0,\n",
       " 'b': 1,\n",
       " 'c': 2,\n",
       " 'd': 3,\n",
       " 'e': 4,\n",
       " 'f': 5,\n",
       " 'g': 6,\n",
       " 'h': 7,\n",
       " 'i': 8,\n",
       " 'j': 9,\n",
       " 'k': 10,\n",
       " 'l': 11,\n",
       " 'm': 12,\n",
       " 'n': 13,\n",
       " 'o': 14,\n",
       " 'p': 15,\n",
       " 'q': 16,\n",
       " 'r': 17,\n",
       " 's': 18}"
      ]
     },
     "execution_count": 3,
     "metadata": {},
     "output_type": "execute_result"
    }
   ],
   "source": [
    "chars = 'abcdefghijklmnopqrs'\n",
    "coordinates = {k:v for v,k in enumerate(chars)}\n",
    "chartonumbers = {k:v for k,v in enumerate(chars)}\n",
    "chars_reverse = 'srqponmlkjihgfedcba'\n",
    "coordinates_reverse = {k:v for v,k in enumerate(chars_reverse)}\n",
    "\n",
    "coordinates"
   ]
  },
  {
   "cell_type": "markdown",
   "id": "68be800b",
   "metadata": {},
   "source": [
    "## Feature Map(共28個)\n",
    "\n",
    "    0:player board\n",
    "    1:opponent board\n",
    "    2~5:player的氣數 (1, 2, 3, >=4)\n",
    "    6~9:opponent的氣數(1, 2, 3, >=4)\n",
    "    10:標示空地\n",
    "    11~18:最後八步\n",
    "    19~21:最後一步的周圍7*7(player, opponent, 空位)\n",
    "    22~24:最後一步的周圍5*5(player, opponent, 空位)\n",
    "    25~27:最後一步的周圍3*3(player, opponent, 空位)"
   ]
  },
  {
   "cell_type": "code",
   "execution_count": 4,
   "id": "ac6986a8",
   "metadata": {},
   "outputs": [],
   "source": [
    "player_board = 0\n",
    "oppnent_board = 1\n",
    "player_air_1 = 2\n",
    "player_air_2 = 3\n",
    "player_air_3 = 4\n",
    "player_air_4 = 5\n",
    "oppnent_air_1 = 6\n",
    "oppnent_air_2 = 7\n",
    "oppnent_air_3 = 8\n",
    "oppnent_air_4 = 9\n",
    "empty_board = 10\n",
    "last_1 = 11\n",
    "last_8 = 18\n",
    "round_7 = 19\n",
    "round_5 = 22\n",
    "round_3 = 25"
   ]
  },
  {
   "cell_type": "code",
   "execution_count": 5,
   "id": "13ce72df",
   "metadata": {},
   "outputs": [],
   "source": [
    "liber = Queue()\n",
    "def count_air2(move):\n",
    "    bfs = []\n",
    "    col = coordinates[move[2]]\n",
    "    row = coordinates[move[3]]\n",
    "    #找四周要bfs的\n",
    "    if col - 1 >= 0 and x[row][col - 1][empty_board] == 0:\n",
    "        bfs.append([row, col - 1])\n",
    "    if col + 1 < 19 and x[row][col + 1][empty_board] == 0:\n",
    "        bfs.append([row, col + 1])\n",
    "    if row - 1 >= 0 and x[row - 1][col][empty_board] == 0:\n",
    "        bfs.append([row - 1, col])\n",
    "    if row + 1 < 19 and x[row + 1][col][empty_board] == 0:\n",
    "        bfs.append([row + 1, col])\n",
    "    bfs.append([row, col])\n",
    "    for m in bfs:\n",
    "        BFS(m)\n",
    "    bfs = []\n",
    "    if not liber.empty():\n",
    "        while not liber.empty():\n",
    "            li_row, li_col = liber.get()\n",
    "            if li_col - 1 >= 0 and x[li_row][li_col - 1][empty_board] == 0:\n",
    "                bfs.append([li_row, li_col - 1])\n",
    "            if li_col + 1 < 19 and x[li_row][li_col + 1][empty_board] == 0:\n",
    "                bfs.append([li_row, li_col + 1])\n",
    "            if li_row - 1 >= 0 and x[li_row - 1][li_col][empty_board] == 0:\n",
    "                bfs.append([li_row - 1, li_col])\n",
    "            if li_row + 1 < 19 and x[li_row + 1][li_col][empty_board] == 0:\n",
    "                bfs.append([li_row + 1, li_col])\n",
    "        for m in bfs:\n",
    "            BFS(m)\n",
    "        \n",
    "def BFS(now):\n",
    "    q = Queue()\n",
    "    row = now[0]\n",
    "    col = now[1]\n",
    "    q.put((row, col))\n",
    "    visited = [[False for _ in range(19)] for _ in range(19)]\n",
    "    nodes = []\n",
    "    air = 0\n",
    "    next_board = player_air_1\n",
    "    board = player\n",
    "    if oppnent[row, col] == 1:\n",
    "        board = oppnent\n",
    "        next_board = oppnent_air_1\n",
    "    while not q.empty():\n",
    "        m, n = q.get()\n",
    "        if m < 0 or n < 0 or m >= 19 or n >= 19 or visited[m][n]:\n",
    "            continue\n",
    "        visited[m][n] = True\n",
    "        if board[m, n] == 1:\n",
    "            nodes.append([m, n])\n",
    "            q.put((m - 1, n))\n",
    "            q.put((m + 1, n))\n",
    "            q.put((m, n - 1))\n",
    "            q.put((m, n + 1))\n",
    "        elif x[m, n, empty_board] == 1: #空地 -> 自由度+1\n",
    "            air += 1\n",
    "    dele = -1\n",
    "    for i in range(player_air_1, player_air_1 + 8):\n",
    "        if x[row][col][i] == 1:\n",
    "            dele = i\n",
    "            break\n",
    "    air = min(air, 4)\n",
    "    for node in nodes:\n",
    "        n_row = node[0]\n",
    "        n_col = node[1]\n",
    "        for i in range(player_air_1, player_air_1 + 8):\n",
    "            x[n_row][n_col][i] = 0;\n",
    "        if air == 0:\n",
    "            x[n_row][n_col][empty_board] = 1\n",
    "            player[n_row, n_col] = 0\n",
    "            oppnent[n_row, n_col] = 0\n",
    "            liber.put(node)\n",
    "        else:\n",
    "            x[n_row][n_col][next_board + air - 1] = 1"
   ]
  },
  {
   "cell_type": "code",
   "execution_count": 6,
   "id": "fabb5b0a",
   "metadata": {},
   "outputs": [],
   "source": [
    "x = np.zeros((19,19,28))\n",
    "player = np.zeros((19, 19))\n",
    "oppnent = np.zeros((19, 19))\n",
    "\n",
    "\n",
    "def prepare_input(moves, player_color):\n",
    "    sz = len(moves)\n",
    "    move = moves[-1]\n",
    "    \n",
    "    color = move[0]\n",
    "    column = coordinates[move[2]]\n",
    "    row = coordinates[move[3]]\n",
    "    if color == player_color: \n",
    "        player[row,column] = 1\n",
    "    else: \n",
    "        oppnent[row,column] = 1\n",
    "    x[row,column,empty_board] = 0\n",
    "    \n",
    "    #倒數8步\n",
    "    for i in range(last_8, last_1, -1):\n",
    "        x[:, :, i] = x[:, :, i - 1]\n",
    "    x[:, :, last_1] = 0\n",
    "    x[row, column, last_1] = 1\n",
    "    \n",
    "    count_air2(move)\n",
    "    #周圍\n",
    "    x[:, :, round_7:round_3 + 3] = 0\n",
    "    last_col = coordinates[move[2]]\n",
    "    last_row = coordinates[move[3]]\n",
    "    for rad in range(3, 0, -1):\n",
    "        row1 = max(0, last_row - rad)\n",
    "        row7 = min(18, last_row + rad)\n",
    "        col1 = max(0, last_col - rad)\n",
    "        col7 = min(18, last_col + rad)\n",
    "        for i in range(row1, row7 + 1, 1):\n",
    "            for j in range(col1, col7 + 1, 1):\n",
    "                x[i, j, round_7 + (3 - rad) * 3] = player[i, j]\n",
    "                x[i, j, round_7 + 1 + (3 - rad) * 3] = oppnent[i, j]\n",
    "                x[i, j, round_7 + 2 + (3 - rad) * 3] = x[i, j, empty_board]\n",
    "                \n",
    "    x[:, :, player_board] = player.copy()\n",
    "    x[:, :, oppnent_board] = oppnent.copy()\n",
    "    return x\n",
    "\n",
    "def prepare_label(move):\n",
    "    column = coordinates[move[2]]\n",
    "    row = coordinates[move[3]]\n",
    "    return column*19+row\n",
    "\n",
    "def prepare_label_rotate90(move):\n",
    "    column = coordinates[move[2]]\n",
    "    row = coordinates_reverse[move[3]]\n",
    "    return row*19+column"
   ]
  },
  {
   "cell_type": "code",
   "execution_count": 7,
   "id": "233003e6",
   "metadata": {},
   "outputs": [
    {
     "name": "stdout",
     "output_type": "stream",
     "text": [
      "128 "
     ]
    },
    {
     "ename": "KeyboardInterrupt",
     "evalue": "",
     "output_type": "error",
     "traceback": [
      "\u001b[1;31m---------------------------------------------------------------------------\u001b[0m",
      "\u001b[1;31mKeyboardInterrupt\u001b[0m                         Traceback (most recent call last)",
      "Cell \u001b[1;32mIn[7], line 22\u001b[0m\n\u001b[0;32m     20\u001b[0m moves_list \u001b[38;5;241m=\u001b[39m game\u001b[38;5;241m.\u001b[39msplit(\u001b[38;5;124m'\u001b[39m\u001b[38;5;124m,\u001b[39m\u001b[38;5;124m'\u001b[39m)\n\u001b[0;32m     21\u001b[0m \u001b[38;5;28;01mfor\u001b[39;00m count, move \u001b[38;5;129;01min\u001b[39;00m \u001b[38;5;28menumerate\u001b[39m(moves_list):\n\u001b[1;32m---> 22\u001b[0m     pi \u001b[38;5;241m=\u001b[39m \u001b[43mprepare_input\u001b[49m\u001b[43m(\u001b[49m\u001b[43mmoves_list\u001b[49m\u001b[43m[\u001b[49m\u001b[43m:\u001b[49m\u001b[43mcount\u001b[49m\u001b[43m \u001b[49m\u001b[38;5;241;43m+\u001b[39;49m\u001b[43m \u001b[49m\u001b[38;5;241;43m1\u001b[39;49m\u001b[43m]\u001b[49m\u001b[43m,\u001b[49m\u001b[43m \u001b[49m\u001b[43mmoves_list\u001b[49m\u001b[43m[\u001b[49m\u001b[38;5;241;43m-\u001b[39;49m\u001b[38;5;241;43m1\u001b[39;49m\u001b[43m]\u001b[49m\u001b[43m[\u001b[49m\u001b[38;5;241;43m0\u001b[39;49m\u001b[43m]\u001b[49m\u001b[43m)\u001b[49m\n\u001b[0;32m     23\u001b[0m     \u001b[38;5;28;01mif\u001b[39;00m count \u001b[38;5;241m==\u001b[39m \u001b[38;5;28mlen\u001b[39m(moves_list) \u001b[38;5;241m-\u001b[39m \u001b[38;5;241m1\u001b[39m:\n\u001b[0;32m     24\u001b[0m         x_batch\u001b[38;5;241m.\u001b[39mappend(pi\u001b[38;5;241m.\u001b[39mcopy())\n",
      "Cell \u001b[1;32mIn[6], line 27\u001b[0m, in \u001b[0;36mprepare_input\u001b[1;34m(moves, player_color)\u001b[0m\n\u001b[0;32m     25\u001b[0m count_air2(move)\n\u001b[0;32m     26\u001b[0m \u001b[38;5;66;03m#周圍\u001b[39;00m\n\u001b[1;32m---> 27\u001b[0m x[:, :, round_7:round_3 \u001b[38;5;241m+\u001b[39m \u001b[38;5;241m3\u001b[39m] \u001b[38;5;241m=\u001b[39m \u001b[38;5;241m0\u001b[39m\n\u001b[0;32m     28\u001b[0m last_col \u001b[38;5;241m=\u001b[39m coordinates[move[\u001b[38;5;241m2\u001b[39m]]\n\u001b[0;32m     29\u001b[0m last_row \u001b[38;5;241m=\u001b[39m coordinates[move[\u001b[38;5;241m3\u001b[39m]]\n",
      "\u001b[1;31mKeyboardInterrupt\u001b[0m: "
     ]
    }
   ],
   "source": [
    "from IPython.display import clear_output\n",
    "\n",
    "if os.path.isfile('./hdf5/test.hdf5'):\n",
    "    os.remove('./hdf5/test.hdf5')\n",
    "hdf5 = h5py.File('./hdf5/test.hdf5', 'a')\n",
    "hdf5.create_dataset('Xs', (0, 19, 19, 28), maxshape=(None, 19, 19, 28), chunks=(10, 19, 19, 28)\n",
    "                    ,dtype=np.float32, compression=\"lzf\")\n",
    "x_dataset = hdf5['Xs']\n",
    "\n",
    "x_batch = []\n",
    "batch_size = 1\n",
    "print(f'total{len(games)}')\n",
    "for game_i, game in enumerate(games): # Iterate through games\n",
    "        clear_output(wait=True)\n",
    "        print(game_i, end = ' ')\n",
    "        x = np.zeros((19,19,28))\n",
    "        player = np.zeros((19, 19))\n",
    "        oppnent = np.zeros((19, 19))\n",
    "        x[:, :, empty_board] = np.ones((19, 19))\n",
    "        moves_list = game.split(',')\n",
    "        for count, move in enumerate(moves_list):\n",
    "            pi = prepare_input(moves_list[:count + 1], moves_list[-1][0])\n",
    "            if count == len(moves_list) - 1:\n",
    "                x_batch.append(pi.copy())\n",
    "                if len(x_batch) >= batch_size or (game_i == len(games) - 1 \n",
    "                                        and (count == len(moves_list) - 1 or count == len(moves_list) - 2)): # Yield when reached batch size\n",
    "                        x_dataset.resize(x_dataset.shape[0] + len(x_batch), axis = 0)\n",
    "                        x_dataset[-len(x_batch):] = np.array(x_batch)\n",
    "                        x_batch = []\n",
    "hdf5.close()"
   ]
  },
  {
   "cell_type": "code",
   "execution_count": null,
   "id": "ad7c81a2",
   "metadata": {},
   "outputs": [],
   "source": []
  }
 ],
 "metadata": {
  "kernelspec": {
   "display_name": "Python 3 (ipykernel)",
   "language": "python",
   "name": "python3"
  },
  "language_info": {
   "codemirror_mode": {
    "name": "ipython",
    "version": 3
   },
   "file_extension": ".py",
   "mimetype": "text/x-python",
   "name": "python",
   "nbconvert_exporter": "python",
   "pygments_lexer": "ipython3",
   "version": "3.8.18"
  }
 },
 "nbformat": 4,
 "nbformat_minor": 5
}
