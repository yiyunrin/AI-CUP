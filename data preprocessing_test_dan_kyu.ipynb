{
 "cells": [
  {
   "cell_type": "code",
   "execution_count": 1,
   "id": "aa35a2f0",
   "metadata": {},
   "outputs": [],
   "source": [
    "import h5py\n",
    "import numpy as np\n",
    "import os\n",
    "from queue import Queue\n",
    "import random"
   ]
  },
  {
   "cell_type": "markdown",
   "id": "820ecb78",
   "metadata": {},
   "source": [
    "## Kyu private"
   ]
  },
  {
   "cell_type": "code",
   "execution_count": 2,
   "id": "a6ba3fb4",
   "metadata": {},
   "outputs": [],
   "source": [
    "# df = open('./CSVs/kyu_test_private.csv').read().splitlines()\n",
    "# games = [i.split(',',2)[-1] for i in df]\n",
    "# colors = [i.split(',',2)[1] for i in df]"
   ]
  },
  {
   "cell_type": "markdown",
   "id": "ed4b6bf0",
   "metadata": {},
   "source": [
    "## Kyu public"
   ]
  },
  {
   "cell_type": "code",
   "execution_count": 2,
   "id": "4367eca9",
   "metadata": {},
   "outputs": [],
   "source": [
    "# df = open('./CSVs/kyu_test_public.csv').read().splitlines()\n",
    "# games = [i.split(',',2)[-1] for i in df]\n",
    "# colors = [i.split(',',2)[1] for i in df]"
   ]
  },
  {
   "cell_type": "markdown",
   "id": "d35f6d3a",
   "metadata": {},
   "source": [
    "## Dan private"
   ]
  },
  {
   "cell_type": "code",
   "execution_count": 2,
   "id": "3e3bf0a4",
   "metadata": {},
   "outputs": [],
   "source": [
    "# df = open('./CSVs/dan_test_private.csv').read().splitlines()\n",
    "# games = [i.split(',',2)[-1] for i in df]\n",
    "# colors = [i.split(',',2)[1] for i in df]"
   ]
  },
  {
   "cell_type": "markdown",
   "id": "3c0a108d",
   "metadata": {},
   "source": [
    "## Dan public"
   ]
  },
  {
   "cell_type": "code",
   "execution_count": 2,
   "id": "e2d71ef6",
   "metadata": {},
   "outputs": [],
   "source": [
    "df = open('./CSVs/dan_test_public.csv').read().splitlines()\n",
    "games = [i.split(',',2)[-1] for i in df]\n",
    "colors = [i.split(',',2)[1] for i in df]"
   ]
  },
  {
   "cell_type": "code",
   "execution_count": 3,
   "id": "efe224a7",
   "metadata": {},
   "outputs": [
    {
     "data": {
      "text/plain": [
       "{'a': 0,\n",
       " 'b': 1,\n",
       " 'c': 2,\n",
       " 'd': 3,\n",
       " 'e': 4,\n",
       " 'f': 5,\n",
       " 'g': 6,\n",
       " 'h': 7,\n",
       " 'i': 8,\n",
       " 'j': 9,\n",
       " 'k': 10,\n",
       " 'l': 11,\n",
       " 'm': 12,\n",
       " 'n': 13,\n",
       " 'o': 14,\n",
       " 'p': 15,\n",
       " 'q': 16,\n",
       " 'r': 17,\n",
       " 's': 18}"
      ]
     },
     "execution_count": 3,
     "metadata": {},
     "output_type": "execute_result"
    }
   ],
   "source": [
    "chars = 'abcdefghijklmnopqrs'\n",
    "coordinates = {k:v for v,k in enumerate(chars)}\n",
    "chartonumbers = {k:v for k,v in enumerate(chars)}\n",
    "chars_reverse = 'srqponmlkjihgfedcba'\n",
    "coordinates_reverse = {k:v for v,k in enumerate(chars_reverse)}\n",
    "\n",
    "coordinates"
   ]
  },
  {
   "cell_type": "markdown",
   "id": "8cbdb8b9",
   "metadata": {},
   "source": [
    "## Feature Map(共19個)\n",
    "\n",
    "    0:player board\n",
    "    1:opponent board\n",
    "    2~5:player的氣數 (1, 2, 3, >=4)\n",
    "    6~9:opponent的氣數(1, 2, 3, >=4)\n",
    "    10:標示空地\n",
    "    11~18:最後八步"
   ]
  },
  {
   "cell_type": "code",
   "execution_count": 4,
   "id": "ac6986a8",
   "metadata": {},
   "outputs": [],
   "source": [
    "player_board = 0\n",
    "oppnent_board = 1\n",
    "player_air_1 = 2\n",
    "player_air_2 = 3\n",
    "player_air_3 = 4\n",
    "player_air_4 = 5\n",
    "oppnent_air_1 = 6\n",
    "oppnent_air_2 = 7\n",
    "oppnent_air_3 = 8\n",
    "oppnent_air_4 = 9\n",
    "empty_board = 10\n",
    "last_1 = 11\n",
    "last_8 = 18"
   ]
  },
  {
   "cell_type": "code",
   "execution_count": 5,
   "id": "13ce72df",
   "metadata": {},
   "outputs": [],
   "source": [
    "liber = Queue()\n",
    "def count_air2(move):\n",
    "    bfs = []\n",
    "    col = coordinates[move[2]]\n",
    "    row = coordinates[move[3]]\n",
    "    #找四周要bfs的\n",
    "    if col - 1 >= 0 and x[row][col - 1][empty_board] == 0:\n",
    "        bfs.append([row, col - 1])\n",
    "    if col + 1 < 19 and x[row][col + 1][empty_board] == 0:\n",
    "        bfs.append([row, col + 1])\n",
    "    if row - 1 >= 0 and x[row - 1][col][empty_board] == 0:\n",
    "        bfs.append([row - 1, col])\n",
    "    if row + 1 < 19 and x[row + 1][col][empty_board] == 0:\n",
    "        bfs.append([row + 1, col])\n",
    "    bfs.append([row, col])\n",
    "    for m in bfs:\n",
    "        BFS(m)\n",
    "    bfs = []\n",
    "    if not liber.empty():\n",
    "        while not liber.empty():\n",
    "            li_row, li_col = liber.get()\n",
    "            if li_col - 1 >= 0 and x[li_row][li_col - 1][empty_board] == 0:\n",
    "                bfs.append([li_row, li_col - 1])\n",
    "            if li_col + 1 < 19 and x[li_row][li_col + 1][empty_board] == 0:\n",
    "                bfs.append([li_row, li_col + 1])\n",
    "            if li_row - 1 >= 0 and x[li_row - 1][li_col][empty_board] == 0:\n",
    "                bfs.append([li_row - 1, li_col])\n",
    "            if li_row + 1 < 19 and x[li_row + 1][li_col][empty_board] == 0:\n",
    "                bfs.append([li_row + 1, li_col])\n",
    "        for m in bfs:\n",
    "            BFS(m)\n",
    "        \n",
    "def BFS(now):\n",
    "    q = Queue()\n",
    "    row = now[0]\n",
    "    col = now[1]\n",
    "    q.put((row, col))\n",
    "    visited = [[False for _ in range(19)] for _ in range(19)]\n",
    "    nodes = []\n",
    "    air = 0\n",
    "    next_board = player_air_1\n",
    "    board = player\n",
    "    if oppnent[row, col] == 1:\n",
    "        board = oppnent\n",
    "        next_board = oppnent_air_1\n",
    "    while not q.empty():\n",
    "        m, n = q.get()\n",
    "        if m < 0 or n < 0 or m >= 19 or n >= 19 or visited[m][n]:\n",
    "            continue\n",
    "        visited[m][n] = True\n",
    "        if board[m, n] == 1:\n",
    "            nodes.append([m, n])\n",
    "            q.put((m - 1, n))\n",
    "            q.put((m + 1, n))\n",
    "            q.put((m, n - 1))\n",
    "            q.put((m, n + 1))\n",
    "        elif x[m, n, empty_board] == 1: #空地 -> 自由度+1\n",
    "            air += 1\n",
    "    dele = -1\n",
    "    for i in range(player_air_1, player_air_1 + 8):\n",
    "        if x[row][col][i] == 1:\n",
    "            dele = i\n",
    "            break\n",
    "    air = min(air, 4)\n",
    "    for node in nodes:\n",
    "        n_row = node[0]\n",
    "        n_col = node[1]\n",
    "        for i in range(player_air_1, player_air_1 + 8):\n",
    "            x[n_row][n_col][i] = 0;\n",
    "        if air == 0:\n",
    "            x[n_row][n_col][empty_board] = 1\n",
    "            player[n_row, n_col] = 0\n",
    "            oppnent[n_row, n_col] = 0\n",
    "            liber.put(node)\n",
    "        else:\n",
    "            x[n_row][n_col][next_board + air - 1] = 1"
   ]
  },
  {
   "cell_type": "code",
   "execution_count": 6,
   "id": "fabb5b0a",
   "metadata": {},
   "outputs": [],
   "source": [
    "x = np.zeros((19,19,19))\n",
    "player = np.zeros((19, 19))\n",
    "oppnent = np.zeros((19, 19))\n",
    "\n",
    "def prepare_input(moves, player_color):\n",
    "    sz = len(moves)\n",
    "    move = moves[-1]\n",
    "    \n",
    "    color = move[0]\n",
    "    column = coordinates[move[2]]\n",
    "    row = coordinates[move[3]]\n",
    "    if color == player_color: #\n",
    "        player[row,column] = 1\n",
    "    else: #\n",
    "        oppnent[row,column] = 1\n",
    "    x[row,column,empty_board] = 0\n",
    "    \n",
    "    #倒數8步\n",
    "    for i in range(last_8, last_1, -1):\n",
    "        x[:, :, i] = x[:, :, i - 1]\n",
    "    x[:, :, last_1] = 0\n",
    "    x[row, column, last_1] = 1\n",
    "    \n",
    "    count_air2(move)\n",
    "    x[:, :, player_board] = player.copy()\n",
    "    x[:, :, oppnent_board] = oppnent.copy()\n",
    "    return x"
   ]
  },
  {
   "cell_type": "code",
   "execution_count": 7,
   "id": "233003e6",
   "metadata": {},
   "outputs": [
   ],
   "source": [
    "from IPython.display import clear_output\n",
    "\n",
    "# kyu private\n",
    "# if os.path.isfile('./hdf5/kyu_test_private.hdf5'):\n",
    "#     os.remove('./hdf5/kyu_test_private.hdf5')\n",
    "# hdf5 = h5py.File('./hdf5/kyu_test_private.hdf5', 'a')\n",
    "\n",
    "# kyu public\n",
    "# if os.path.isfile('./hdf5/kyu_test_public.hdf5'):\n",
    "#     os.remove('./hdf5/kyu_test_public.hdf5')\n",
    "# hdf5 = h5py.File('./hdf5/kyu_test_public.hdf5', 'a')\n",
    "\n",
    "# dan private\n",
    "# if os.path.isfile('./hdf5/dan_test_private.hdf5'):\n",
    "#     os.remove('./hdf5/dan_test_private.hdf5')\n",
    "# hdf5 = h5py.File('./hdf5/dan_test_private.hdf5', 'a')\n",
    "\n",
    "# dan public\n",
    "if os.path.isfile('./hdf5/dan_test_public.hdf5'):\n",
    "    os.remove('./hdf5/dan_test_public.hdf5')\n",
    "hdf5 = h5py.File('./hdf5/dan_test_public.hdf5', 'a')\n",
    "\n",
    "hdf5.create_dataset('Xs', (0, 19, 19, 19), maxshape=(None, 19, 19, 19), chunks=(10, 19, 19, 19)\n",
    "                    ,dtype=np.float32, compression=\"lzf\")\n",
    "x_dataset = hdf5['Xs']\n",
    "\n",
    "x_batch = []\n",
    "batch_size = 1\n",
    "print(f'total{len(games)}')\n",
    "for game_i, game in enumerate(games): # Iterate through games\n",
    "        clear_output(wait=True)\n",
    "        print(game_i, end = ' ')\n",
    "        x = np.zeros((19,19,19))\n",
    "        player = np.zeros((19, 19))\n",
    "        oppnent = np.zeros((19, 19))\n",
    "        x[:, :, empty_board] = np.ones((19, 19))\n",
    "        moves_list = game.split(',')\n",
    "        for count, move in enumerate(moves_list):\n",
    "            pi = prepare_input(moves_list[:count + 1], colors[game_i])\n",
    "            if count == len(moves_list) - 1:\n",
    "                x_batch.append(pi.copy())\n",
    "                if len(x_batch) >= batch_size or (game_i == len(games) - 1 \n",
    "                                        and (count == len(moves_list) - 1 or count == len(moves_list) - 2)): # Yield when reached batch size\n",
    "                        x_dataset.resize(x_dataset.shape[0] + len(x_batch), axis = 0)\n",
    "                        x_dataset[-len(x_batch):] = np.array(x_batch) \n",
    "                        x_batch = []\n",
    "hdf5.close()"
   ]
  },
  {
   "cell_type": "code",
   "execution_count": null,
   "id": "3a05305c",
   "metadata": {},
   "outputs": [],
   "source": []
  }
 ],
 "metadata": {
  "kernelspec": {
   "display_name": "Python 3 (ipykernel)",
   "language": "python",
   "name": "python3"
  },
  "language_info": {
   "codemirror_mode": {
    "name": "ipython",
    "version": 3
   },
   "file_extension": ".py",
   "mimetype": "text/x-python",
   "name": "python",
   "nbconvert_exporter": "python",
   "pygments_lexer": "ipython3",
   "version": "3.8.18"
  }
 },
 "nbformat": 4,
 "nbformat_minor": 5
}
